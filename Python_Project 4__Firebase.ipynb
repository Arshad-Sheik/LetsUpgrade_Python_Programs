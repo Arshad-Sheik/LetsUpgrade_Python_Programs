{
 "cells": [
  {
   "cell_type": "code",
   "execution_count": 1,
   "metadata": {},
   "outputs": [],
   "source": [
    "import firebase_admin"
   ]
  },
  {
   "cell_type": "code",
   "execution_count": 2,
   "metadata": {},
   "outputs": [],
   "source": [
    "from firebase_admin import credentials\n",
    "from firebase_admin import firestore"
   ]
  },
  {
   "cell_type": "code",
   "execution_count": 3,
   "metadata": {},
   "outputs": [
    {
     "data": {
      "text/plain": [
       "<firebase_admin.App at 0x1e4b7a58760>"
      ]
     },
     "execution_count": 3,
     "metadata": {},
     "output_type": "execute_result"
    }
   ],
   "source": [
    "cred = credentials.Certificate(\"python-letsupgrade-project-4-firebase-adminsdk-ws7v1-cb8536a7bb.json\")\n",
    "firebase_admin.initialize_app(cred)"
   ]
  },
  {
   "cell_type": "code",
   "execution_count": 4,
   "metadata": {},
   "outputs": [],
   "source": [
    "db = firestore.client()"
   ]
  },
  {
   "cell_type": "code",
   "execution_count": 5,
   "metadata": {},
   "outputs": [
    {
     "data": {
      "text/plain": [
       "update_time {\n",
       "  seconds: 1608381102\n",
       "  nanos: 236228000\n",
       "}"
      ]
     },
     "execution_count": 5,
     "metadata": {},
     "output_type": "execute_result"
    }
   ],
   "source": [
    "doc_ref = db.collection(u'users').document(u'abc')\n",
    "\n",
    "doc_ref.set({\n",
    "    u'first': u'Faiza',\n",
    "    u'last': u'Gokak',\n",
    "    u'born': 1997\n",
    "})"
   ]
  },
  {
   "cell_type": "code",
   "execution_count": 6,
   "metadata": {},
   "outputs": [],
   "source": [
    "def enterDataInDB(movie, director, release_year):\n",
    "    doc_ref = db.collection(u'Marvel Movies').document()\n",
    "    \n",
    "    mve = {}\n",
    "    mve[\"Movie\"] = movie\n",
    "    mve[\"Director\"]  = director\n",
    "    mve[\"Release year\"] = release_year\n",
    "    \n",
    "    doc_ref.set(mve)"
   ]
  },
  {
   "cell_type": "code",
   "execution_count": 7,
   "metadata": {},
   "outputs": [],
   "source": [
    "enterDataInDB(\"Iron Man\", \"Jon Favreau\", 2008)"
   ]
  },
  {
   "cell_type": "code",
   "execution_count": 8,
   "metadata": {},
   "outputs": [],
   "source": [
    "enterDataInDB(\"The Incredible Hulk\", \"Louis Leterrier\", 2008)"
   ]
  },
  {
   "cell_type": "code",
   "execution_count": 9,
   "metadata": {},
   "outputs": [],
   "source": [
    "enterDataInDB(\"Thor\", \"Kenneth Branagh\", 2011)"
   ]
  },
  {
   "cell_type": "code",
   "execution_count": 10,
   "metadata": {},
   "outputs": [],
   "source": [
    "enterDataInDB(\"Captain America: The First Avenger\", \"Joe Johnston\", 2011)"
   ]
  },
  {
   "cell_type": "code",
   "execution_count": 11,
   "metadata": {},
   "outputs": [],
   "source": [
    "enterDataInDB(\"Marvel's The Avengers\", \"Joss Whedon\", 2012)"
   ]
  },
  {
   "cell_type": "code",
   "execution_count": 12,
   "metadata": {},
   "outputs": [],
   "source": [
    "enterDataInDB(\"Captain America: The Winter Soldier\", \"Anthony\", 2014)"
   ]
  },
  {
   "cell_type": "code",
   "execution_count": 13,
   "metadata": {},
   "outputs": [],
   "source": [
    "enterDataInDB(\"Guardians of the Galaxy\", \"James Gunn\", 2014)"
   ]
  },
  {
   "cell_type": "code",
   "execution_count": 14,
   "metadata": {},
   "outputs": [],
   "source": [
    "enterDataInDB(\"Avengers: Age of Ultron\", \"Joss Whedon\", 2015)"
   ]
  },
  {
   "cell_type": "code",
   "execution_count": 15,
   "metadata": {},
   "outputs": [],
   "source": [
    "enterDataInDB(\"Ant-Man\", \"Peyton Reed\", 2015)"
   ]
  },
  {
   "cell_type": "code",
   "execution_count": 16,
   "metadata": {},
   "outputs": [],
   "source": [
    "enterDataInDB(\"Spider-Man: Homecoming\", \"Jon Watts\", 2017)"
   ]
  },
  {
   "cell_type": "code",
   "execution_count": 17,
   "metadata": {},
   "outputs": [],
   "source": [
    "enterDataInDB(\"Thor: Ragnarok\", \"Taika Waititi\", 2017)"
   ]
  },
  {
   "cell_type": "code",
   "execution_count": 18,
   "metadata": {},
   "outputs": [],
   "source": [
    "enterDataInDB(\"Avengers: Infinity War\", \"Joe Russo\", 2018)"
   ]
  },
  {
   "cell_type": "code",
   "execution_count": 19,
   "metadata": {},
   "outputs": [],
   "source": [
    "enterDataInDB(\"Avengers: Endgame\", \"Anthony and Joe Russo\", 2019)"
   ]
  },
  {
   "cell_type": "code",
   "execution_count": 20,
   "metadata": {},
   "outputs": [],
   "source": [
    "enterDataInDB(\"Spider-Man: Far From Home\", \"Jon Watts\", 2019)"
   ]
  },
  {
   "cell_type": "code",
   "execution_count": 21,
   "metadata": {},
   "outputs": [
    {
     "name": "stdout",
     "output_type": "stream",
     "text": [
      "ID            -  2BgpZdGtoyTdgzgUphMP\n",
      "Movie         -  Avengers: Age of Ultron\n",
      "Director      -  Joss Whedon\n",
      "Release year  -  2015\n",
      "---------------\n",
      "---------------\n",
      "ID            -  2F8kEp4mdAItk3AFGaKy\n",
      "Movie         -  The Incredible Hulk\n",
      "Director      -  Louis Leterrier\n",
      "Release year  -  2008\n",
      "---------------\n",
      "---------------\n",
      "ID            -  Ggyh2QE7CmqLSfmw3sNY\n",
      "Movie         -  Spider-Man: Homecoming\n",
      "Director      -  Jon Watts\n",
      "Release year  -  2017\n",
      "---------------\n",
      "---------------\n",
      "ID            -  GkPwyp4RnLMHDxGnldhu\n",
      "Movie         -  Guardians of the Galaxy\n",
      "Director      -  James Gunn\n",
      "Release year  -  2014\n",
      "---------------\n",
      "---------------\n",
      "ID            -  LVnP3scwu1bmP81iMgym\n",
      "Movie         -  Marvel's The Avengers\n",
      "Director      -  Joss Whedon\n",
      "Release year  -  2012\n",
      "---------------\n",
      "---------------\n",
      "ID            -  RmiQ0uZogtewoBi5j1QV\n",
      "Movie         -  Avengers: Infinity War\n",
      "Director      -  Joe Russo\n",
      "Release year  -  2018\n",
      "---------------\n",
      "---------------\n",
      "ID            -  SyqIMMVZyLQbvmuwLwhF\n",
      "Movie         -  Iron Man\n",
      "Director      -  Jon Favreau\n",
      "Release year  -  2008\n",
      "---------------\n",
      "---------------\n",
      "ID            -  W69JVKV07O9BUPuqMM4J\n",
      "Movie         -  Avengers: Endgame\n",
      "Director      -  Anthony and Joe Russo\n",
      "Release year  -  2019\n",
      "---------------\n",
      "---------------\n",
      "ID            -  dATflOPzU5jQwzhcx7ke\n",
      "Movie         -  Thor: Ragnarok\n",
      "Director      -  Taika Waititi\n",
      "Release year  -  2017\n",
      "---------------\n",
      "---------------\n",
      "ID            -  evArerlOMKY16VAZYfCf\n",
      "Movie         -  Spider-Man: Far From Home\n",
      "Director      -  Jon Watts\n",
      "Release year  -  2019\n",
      "---------------\n",
      "---------------\n",
      "ID            -  kH2coCD1fCRzDa55P9Lq\n",
      "Movie         -  Thor\n",
      "Director      -  Kenneth Branagh\n",
      "Release year  -  2011\n",
      "---------------\n",
      "---------------\n",
      "ID            -  mUZUH9KOfeBUIN7goJnI\n",
      "Movie         -  Captain America: The First Avenger\n",
      "Director      -  Joe Johnston\n",
      "Release year  -  2011\n",
      "---------------\n",
      "---------------\n",
      "ID            -  r8dpjhgemjzxktjeIXHv\n",
      "Movie         -  Captain America: The Winter Soldier\n",
      "Director      -  Anthony\n",
      "Release year  -  2014\n",
      "---------------\n",
      "---------------\n",
      "ID            -  zTk6lQMd2QT1ToaTtSZU\n",
      "Movie         -  Ant-Man\n",
      "Director      -  Peyton Reed\n",
      "Release year  -  2015\n",
      "---------------\n",
      "---------------\n"
     ]
    }
   ],
   "source": [
    "#Read data from Firebase DB ( Firestore )\n",
    "\n",
    "movies = db.collection(u'Marvel Movies').stream()\n",
    "\n",
    "for mv in movies :\n",
    "    \n",
    "    print(\"ID            - \", mv.id)\n",
    "    print(\"Movie         - \", mv.to_dict().get(\"Movie\"))\n",
    "    print(\"Director      - \", mv.to_dict().get(\"Director\"))\n",
    "    print(\"Release year  - \", mv.to_dict().get(\"Release year\") )\n",
    "    \n",
    "    print(\"---------------\")\n",
    "    print(\"---------------\")"
   ]
  },
  {
   "cell_type": "code",
   "execution_count": 22,
   "metadata": {},
   "outputs": [],
   "source": [
    "#Update a Entry ->\n",
    "\n",
    "def updateDatainFirebase(uid, updatedname):\n",
    "    doc_ref = db.collection(u'Marvel Movies').document(uid)\n",
    "    \n",
    "    doc_ref.update({\"Directors\":updatedname})"
   ]
  },
  {
   "cell_type": "code",
   "execution_count": 24,
   "metadata": {},
   "outputs": [],
   "source": [
    "updateDatainFirebase(\"r8dpjhgemjzxktjeIXHv\",\"Anthony and Joe Russo\")"
   ]
  },
  {
   "cell_type": "code",
   "execution_count": 25,
   "metadata": {},
   "outputs": [],
   "source": [
    "updateDatainFirebase(\"RmiQ0uZogtewoBi5j1QV\", \"Anthony and Joe Russo\")"
   ]
  },
  {
   "cell_type": "code",
   "execution_count": 26,
   "metadata": {},
   "outputs": [],
   "source": [
    "#Delete Data from Firebase \n",
    "\n",
    "def deleteDataInFirebase(uid):\n",
    "    db.collection(u'Marvel Movies').document(uid).delete()"
   ]
  },
  {
   "cell_type": "code",
   "execution_count": 27,
   "metadata": {},
   "outputs": [],
   "source": [
    "deleteDataInFirebase(\"2F8kEp4mdAItk3AFGaKy\")"
   ]
  },
  {
   "cell_type": "code",
   "execution_count": 28,
   "metadata": {},
   "outputs": [],
   "source": [
    "deleteDataInFirebase(\"kH2coCD1fCRzDa55P9Lq\")"
   ]
  },
  {
   "cell_type": "code",
   "execution_count": 32,
   "metadata": {},
   "outputs": [
    {
     "name": "stdout",
     "output_type": "stream",
     "text": [
      "ID            -  2BgpZdGtoyTdgzgUphMP\n",
      "Movie         -  Avengers: Age of Ultron\n",
      "Director      -  Joss Whedon\n",
      "Release year  -  2015\n",
      "---------------\n",
      "---------------\n",
      "ID            -  Ggyh2QE7CmqLSfmw3sNY\n",
      "Movie         -  Spider-Man: Homecoming\n",
      "Director      -  Jon Watts\n",
      "Release year  -  2017\n",
      "---------------\n",
      "---------------\n",
      "ID            -  GkPwyp4RnLMHDxGnldhu\n",
      "Movie         -  Guardians of the Galaxy\n",
      "Director      -  James Gunn\n",
      "Release year  -  2014\n",
      "---------------\n",
      "---------------\n",
      "ID            -  LVnP3scwu1bmP81iMgym\n",
      "Movie         -  Marvel's The Avengers\n",
      "Director      -  Joss Whedon\n",
      "Release year  -  2012\n",
      "---------------\n",
      "---------------\n",
      "ID            -  RmiQ0uZogtewoBi5j1QV\n",
      "Movie         -  Avengers: Infinity War\n",
      "Directors     -  Anthony and Joe Russo\n",
      "Release year  -  2018\n",
      "---------------\n",
      "---------------\n",
      "ID            -  SyqIMMVZyLQbvmuwLwhF\n",
      "Movie         -  Iron Man\n",
      "Director      -  Jon Favreau\n",
      "Release year  -  2008\n",
      "---------------\n",
      "---------------\n",
      "ID            -  W69JVKV07O9BUPuqMM4J\n",
      "Movie         -  Avengers: Endgame\n",
      "Director      -  Anthony and Joe Russo\n",
      "Release year  -  2019\n",
      "---------------\n",
      "---------------\n",
      "ID            -  dATflOPzU5jQwzhcx7ke\n",
      "Movie         -  Thor: Ragnarok\n",
      "Director      -  Taika Waititi\n",
      "Release year  -  2017\n",
      "---------------\n",
      "---------------\n",
      "ID            -  evArerlOMKY16VAZYfCf\n",
      "Movie         -  Spider-Man: Far From Home\n",
      "Director      -  Jon Watts\n",
      "Release year  -  2019\n",
      "---------------\n",
      "---------------\n",
      "ID            -  mUZUH9KOfeBUIN7goJnI\n",
      "Movie         -  Captain America: The First Avenger\n",
      "Director      -  Joe Johnston\n",
      "Release year  -  2011\n",
      "---------------\n",
      "---------------\n",
      "ID            -  r8dpjhgemjzxktjeIXHv\n",
      "Movie         -  Captain America: The Winter Soldier\n",
      "Directors     -  Anthony and Joe Russo\n",
      "Release year  -  2014\n",
      "---------------\n",
      "---------------\n",
      "ID            -  zTk6lQMd2QT1ToaTtSZU\n",
      "Movie         -  Ant-Man\n",
      "Director      -  Peyton Reed\n",
      "Release year  -  2015\n",
      "---------------\n",
      "---------------\n"
     ]
    }
   ],
   "source": [
    "movies = db.collection(u'Marvel Movies').stream()\n",
    "\n",
    "for mv in movies :\n",
    "    \n",
    "    print(\"ID            - \", mv.id)\n",
    "    print(\"Movie         - \", mv.to_dict().get(\"Movie\"))\n",
    "    if mv.to_dict().get(\"Director\") != None :\n",
    "        print(\"Director      - \", mv.to_dict().get(\"Director\"))\n",
    "    else:\n",
    "        print(\"Directors     - \", mv.to_dict().get(\"Directors\"))\n",
    "    print(\"Release year  - \", mv.to_dict().get(\"Release year\") )\n",
    "    \n",
    "    print(\"---------------\")\n",
    "    print(\"---------------\")"
   ]
  },
  {
   "cell_type": "code",
   "execution_count": null,
   "metadata": {},
   "outputs": [],
   "source": []
  }
 ],
 "metadata": {
  "kernelspec": {
   "display_name": "Python 3",
   "language": "python",
   "name": "python3"
  },
  "language_info": {
   "codemirror_mode": {
    "name": "ipython",
    "version": 3
   },
   "file_extension": ".py",
   "mimetype": "text/x-python",
   "name": "python",
   "nbconvert_exporter": "python",
   "pygments_lexer": "ipython3",
   "version": "3.8.5"
  }
 },
 "nbformat": 4,
 "nbformat_minor": 4
}
