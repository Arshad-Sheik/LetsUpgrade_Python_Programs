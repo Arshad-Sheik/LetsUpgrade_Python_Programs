{
 "cells": [
  {
   "cell_type": "markdown",
   "metadata": {},
   "source": [
    "# PROJECT 2 --->"
   ]
  },
  {
   "cell_type": "markdown",
   "metadata": {},
   "source": [
    "# SENDING EMAIL USING PYTHON "
   ]
  },
  {
   "cell_type": "code",
   "execution_count": 1,
   "metadata": {},
   "outputs": [],
   "source": [
    "import emails"
   ]
  },
  {
   "cell_type": "code",
   "execution_count": 10,
   "metadata": {},
   "outputs": [],
   "source": [
    "def sendmail(email, name):\n",
    "    html_text = '''<p style='box-sizing: border-box; margin: 0px 0px 10px; padding-left: 0px; padding-right: 0px; font-size: medium; color: rgb(0, 0, 0); font-weight: 400; font-style: normal; font-variant-ligatures: normal; font-variant-caps: normal; letter-spacing: normal; orphans: 2; text-indent: 0px; text-transform: none; white-space: normal; widows: 2; word-spacing: 0px; -webkit-text-stroke-width: 0px; background-color: rgb(255, 255, 255); text-decoration-thickness: initial; text-decoration-style: initial; text-decoration-color: initial; font-family: \"Times New Roman\"; text-align: start;'><span style='box-sizing: border-box; font-family: \"Lucida Sans Unicode\", \"Lucida Grande\", sans-serif;'><span style=\"box-sizing: border-box; font-size: 20px; background-color: rgb(251, 160, 38); text-shadow: rgba(136, 136, 136, 0.8) 1px 1px 0px;\">Hey Rowdy, '''+name+''' !!!🙋‍♂️</span></span></p>\n",
    "                <p style='box-sizing: border-box; margin: 0px 0px 10px; padding-left: 0px; padding-right: 0px; font-size: medium; color: rgb(0, 0, 0); font-weight: 400; font-style: normal; font-variant-ligatures: normal; font-variant-caps: normal; letter-spacing: normal; orphans: 2; text-indent: 0px; text-transform: none; white-space: normal; widows: 2; word-spacing: 0px; -webkit-text-stroke-width: 0px; background-color: rgb(255, 255, 255); text-decoration-thickness: initial; text-decoration-style: initial; text-decoration-color: initial; font-family: \"Times New Roman\"; text-align: start;'><span style=\"box-sizing: border-box; font-size: 18px;\">How's it going with LetsUpgrade ?</span></p>\n",
    "                <p style='box-sizing: border-box; margin: 0px 0px 10px; padding-left: 0px; padding-right: 0px; font-size: medium; color: rgb(0, 0, 0); font-weight: 400; font-style: normal; font-variant-ligatures: normal; font-variant-caps: normal; letter-spacing: normal; orphans: 2; text-indent: 0px; text-transform: none; white-space: normal; widows: 2; word-spacing: 0px; -webkit-text-stroke-width: 0px; background-color: rgb(255, 255, 255); text-decoration-thickness: initial; text-decoration-style: initial; text-decoration-color: initial; font-family: \"Times New Roman\"; text-align: start;'><span style=\"box-sizing: border-box; font-size: 18px;\">Hope you are having a great day.🙂</span></p>\n",
    "                <p style='box-sizing: border-box; margin: 0px 0px 10px; padding-left: 0px; padding-right: 0px; font-size: medium; color: rgb(0, 0, 0); font-weight: 400; font-style: normal; font-variant-ligatures: normal; font-variant-caps: normal; letter-spacing: normal; orphans: 2; text-indent: 0px; text-transform: none; white-space: normal; widows: 2; word-spacing: 0px; -webkit-text-stroke-width: 0px; background-color: rgb(255, 255, 255); text-decoration-thickness: initial; text-decoration-style: initial; text-decoration-color: initial; font-family: \"Times New Roman\"; text-align: start;'><span style=\"box-sizing: border-box; font-size: 18px;\">This is Arshad your fellow Coding Buddie and Rowdy of LetsUpgrade learning team.</span></p>\n",
    "                <p style='box-sizing: border-box; margin: 0px 0px 10px; padding-left: 0px; padding-right: 0px; font-size: medium; color: rgb(0, 0, 0); font-weight: 400; font-style: normal; font-variant-ligatures: normal; font-variant-caps: normal; letter-spacing: normal; orphans: 2; text-indent: 0px; text-transform: none; white-space: normal; widows: 2; word-spacing: 0px; -webkit-text-stroke-width: 0px; background-color: rgb(255, 255, 255); text-decoration-thickness: initial; text-decoration-style: initial; text-decoration-color: initial; font-family: \"Times New Roman\"; text-align: start;'><span style=\"box-sizing: border-box; font-size: 18px;\">Wanna join one of the best community platforms ?</span></p>\n",
    "                <p style='box-sizing: border-box; margin: 0px 0px 10px; padding-left: 0px; padding-right: 0px; font-size: medium; color: rgb(0, 0, 0); font-weight: 400; font-style: normal; font-variant-ligatures: normal; font-variant-caps: normal; letter-spacing: normal; orphans: 2; text-indent: 0px; text-transform: none; white-space: normal; widows: 2; word-spacing: 0px; -webkit-text-stroke-width: 0px; background-color: rgb(255, 255, 255); text-decoration-thickness: initial; text-decoration-style: initial; text-decoration-color: initial; font-family: \"Times New Roman\"; text-align: start;'><span style=\"box-sizing: border-box; font-size: 18px;\">👉click <a href=\"https://community.letsupgrade.in/\" style=\"box-sizing: border-box; color: rgb(0, 123, 255); text-decoration: none; background-color: transparent; border-bottom: none; font-weight: normal;\"><span style=\"box-sizing: border-box; color: rgb(84, 172, 210);\">here</span></a> to j<span style='box-sizing: border-box; color: rgb(0, 0, 0); font-family: \"Times New Roman\"; font-style: normal; font-variant-ligatures: normal; font-variant-caps: normal; font-weight: 400; letter-spacing: normal; orphans: 2; text-align: start; text-indent: 0px; text-transform: none; white-space: normal; widows: 2; word-spacing: 0px; text-decoration-thickness: initial; text-decoration-style: initial; text-decoration-color: initial; float: none; display: inline;'>oin us 🤘</span>&nbsp; and explore world of Coding Rowdies 🤘🤘</span></p>\n",
    "                <p style='box-sizing: border-box; margin: 0px 0px 10px; padding-left: 0px; padding-right: 0px; font-size: medium; color: rgb(0, 0, 0); font-weight: 400; font-style: normal; font-variant-ligatures: normal; font-variant-caps: normal; letter-spacing: normal; orphans: 2; text-indent: 0px; text-transform: none; white-space: normal; widows: 2; word-spacing: 0px; -webkit-text-stroke-width: 0px; background-color: rgb(255, 255, 255); text-decoration-thickness: initial; text-decoration-style: initial; text-decoration-color: initial; font-family: \"Times New Roman\"; text-align: start;'>I've attached the sample Certificate too with this mail, which will be given after you successfully complete the Course with required things and pass the exam ✌✌🤘</p>\n",
    "                <p style='box-sizing: border-box; margin: 0px 0px 10px; padding-left: 0px; padding-right: 0px; font-size: medium; color: rgb(0, 0, 0); font-weight: 400; font-style: normal; font-variant-ligatures: normal; font-variant-caps: normal; letter-spacing: normal; orphans: 2; text-indent: 0px; text-transform: none; white-space: normal; widows: 2; word-spacing: 0px; -webkit-text-stroke-width: 0px; background-color: rgb(255, 255, 255); text-decoration-thickness: initial; text-decoration-style: initial; text-decoration-color: initial; font-family: \"Times New Roman\"; text-align: start;'><span style='box-sizing: border-box; font-family: \"Lucida Sans Unicode\", \"Lucida Grande\", sans-serif;'><span style=\"box-sizing: border-box; font-size: 20px; background-color: rgb(251, 160, 38); text-shadow: rgba(136, 136, 136, 0.8) 1px 1px 0px;\">Register for the programs at free of cost..!!</span>&nbsp;</span></p>\n",
    "                <h1 style=\"box-sizing: inherit; margin: 0px; line-height: 1.2; color: rgb(255, 255, 255); font-family: Roboto, serif; font-weight: 400; font-size: 3rem; font-style: normal; font-variant-ligatures: normal; font-variant-caps: normal; letter-spacing: normal; orphans: 2; text-indent: 0px; text-transform: none; white-space: normal; widows: 2; word-spacing: 0px; -webkit-text-stroke-width: 0px; text-decoration-thickness: initial; text-decoration-style: initial; text-decoration-color: initial; padding: 0px; text-align: start; background-color: rgb(10, 10, 10);\">Click <a href=\"https://letsupgrade.in/#programs\" style=\"box-sizing: border-box; color: rgb(0, 123, 255); text-decoration: none; background-color: transparent; border-bottom: none; font-weight: normal;\"><span style=\"box-sizing: border-box; color: rgb(84, 172, 210);\">Code</span></a> to,&nbsp;</h1>\n",
    "                <h1 style=\"box-sizing: inherit; margin: 0px; line-height: 1.2; color: rgb(255, 255, 255); font-family: Roboto, serif; font-weight: 400; font-size: 3rem; font-style: normal; font-variant-ligatures: normal; font-variant-caps: normal; letter-spacing: normal; orphans: 2; text-indent: 0px; text-transform: none; white-space: normal; widows: 2; word-spacing: 0px; -webkit-text-stroke-width: 0px; text-decoration-thickness: initial; text-decoration-style: initial; text-decoration-color: initial; padding: 0px; text-align: start; background-color: rgb(10, 10, 10);\">Learn. Build. Share. Grow.</h1>\n",
    "                <p style=\"box-sizing: border-box; margin: 0px; padding-left: 0px; padding-right: 0px; font-size: 14px; color: rgb(88, 93, 106); font-weight: 400; font-family: Roboto, sans-serif; font-style: normal; font-variant-ligatures: normal; font-variant-caps: normal; letter-spacing: normal; orphans: 2; text-align: left; text-indent: 0px; text-transform: none; white-space: normal; widows: 2; word-spacing: 0px; -webkit-text-stroke-width: 0px; background-color: rgb(255, 255, 255); text-decoration-thickness: initial; text-decoration-style: initial; text-decoration-color: initial;\"><br></p>\n",
    "                <p style=\"box-sizing: border-box; margin: 0px; padding-left: 0px; padding-right: 0px; font-size: 14px; color: rgb(88, 93, 106); font-weight: 400; font-family: Roboto, sans-serif; font-style: normal; font-variant-ligatures: normal; font-variant-caps: normal; letter-spacing: normal; orphans: 2; text-align: left; text-indent: 0px; text-transform: none; white-space: normal; widows: 2; word-spacing: 0px; -webkit-text-stroke-width: 0px; background-color: rgb(255, 255, 255); text-decoration-thickness: initial; text-decoration-style: initial; text-decoration-color: initial;\"><span style='font-size: 20px; font-family: \"Lucida Console\", Monaco, monospace; color: rgb(0, 0, 0);'>⏳Learn the skills from the courses, try to implement what you have learnt through the assignments and get your certificate📜</span></p>\n",
    "                <p style=\"box-sizing: border-box; margin: 0px; padding-left: 0px; padding-right: 0px; font-size: 14px; color: rgb(88, 93, 106); font-weight: 400; font-family: Roboto, sans-serif; font-style: normal; font-variant-ligatures: normal; font-variant-caps: normal; letter-spacing: normal; orphans: 2; text-align: left; text-indent: 0px; text-transform: none; white-space: normal; widows: 2; word-spacing: 0px; -webkit-text-stroke-width: 0px; background-color: rgb(255, 255, 255); text-decoration-thickness: initial; text-decoration-style: initial; text-decoration-color: initial;\"><span style='box-sizing: border-box; text-shadow: rgba(136, 136, 136, 0.8) 1px 3px 2px; font-size: 24px; font-family: \"Arial Black\", Gadget, sans-serif; color: rgb(0, 0, 0);'>Eat Sleep Code Repeat ...!!</span><span style=\"box-sizing: border-box; text-shadow: rgba(136, 136, 136, 0.8) 1px 1px 0px;\"><br style=\"box-sizing: border-box;\"></span></p>\n",
    "                <p style=\"box-sizing: border-box; margin: 0px; padding-left: 0px; padding-right: 0px; font-size: 14px; color: rgb(88, 93, 106); font-weight: 400; font-family: Roboto, sans-serif; font-style: normal; font-variant-ligatures: normal; font-variant-caps: normal; letter-spacing: normal; orphans: 2; text-align: left; text-indent: 0px; text-transform: none; white-space: normal; widows: 2; word-spacing: 0px; -webkit-text-stroke-width: 0px; background-color: rgb(255, 255, 255); text-decoration-thickness: initial; text-decoration-style: initial; text-decoration-color: initial;\"><span style=\"box-sizing: border-box; text-shadow: rgba(136, 136, 136, 0.8) 1px 1px 0px;\"><span style='box-sizing: border-box; font-size: 28px; font-family: \"Lucida Sans Unicode\", \"Lucida Grande\", sans-serif;'><strong style=\"box-sizing: border-box; font-weight: bolder;\"><span style=\"box-sizing: border-box; color: rgb(251, 160, 38);\">Happy learning!</span></strong></span></span><span style=\"box-sizing: border-box; color: rgb(251, 160, 38);\"><span style='box-sizing: border-box; font-size: 28px; font-family: \"Lucida Sans Unicode\", \"Lucida Grande\", sans-serif; text-shadow: rgba(136, 136, 136, 0.8) 1px 1px 0px;'><strong style=\"box-sizing: border-box; font-weight: bolder;\">🙂🙂🙂</strong></span></span></p>'''\n",
    "\n",
    "    subject = \"Hey Rowdy, \"+ name + \" you have a mail from Arshad\"\n",
    "    message = emails.html(html=html_text,\n",
    "                          subject=subject,\n",
    "                          mail_from=('LetsUpgrade Rowdy', 'arsh@xyz.com'))\n",
    "    \n",
    "    message.attach(data=open('Certificate.png', 'rb'), filename='Certificate.png')\n",
    "    \n",
    "    mail_via_python = message.send(to=email, \n",
    "                               smtp={'host': 'smtp.gmail.com', \n",
    "                                    'timeout': 5,\n",
    "                                    'port':587,\n",
    "                                    'user':'YOUREMAIL@REQUIRED.COM',\n",
    "                                    'password':'YourPassWordREquired',\n",
    "                                    'tls':True})\n",
    "    return mail_via_python.status_code"
   ]
  },
  {
   "cell_type": "code",
   "execution_count": 9,
   "metadata": {},
   "outputs": [
    {
     "data": {
      "text/plain": [
       "250"
      ]
     },
     "execution_count": 9,
     "metadata": {},
     "output_type": "execute_result"
    }
   ],
   "source": [
    "sendmail('tovip25623@econeom.com', 'Jake')"
   ]
  },
  {
   "cell_type": "code",
   "execution_count": null,
   "metadata": {},
   "outputs": [],
   "source": []
  }
 ],
 "metadata": {
  "kernelspec": {
   "display_name": "Python 3",
   "language": "python",
   "name": "python3"
  },
  "language_info": {
   "codemirror_mode": {
    "name": "ipython",
    "version": 3
   },
   "file_extension": ".py",
   "mimetype": "text/x-python",
   "name": "python",
   "nbconvert_exporter": "python",
   "pygments_lexer": "ipython3",
   "version": "3.8.5"
  }
 },
 "nbformat": 4,
 "nbformat_minor": 4
}
