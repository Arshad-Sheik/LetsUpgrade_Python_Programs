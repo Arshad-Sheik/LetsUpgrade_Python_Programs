{
 "cells": [
  {
   "cell_type": "markdown",
   "metadata": {},
   "source": [
    "# Project 1 - CryptoGraphy App --->"
   ]
  },
  {
   "cell_type": "code",
   "execution_count": 1,
   "metadata": {},
   "outputs": [],
   "source": [
    "from cryptography.fernet import Fernet"
   ]
  },
  {
   "cell_type": "code",
   "execution_count": 2,
   "metadata": {},
   "outputs": [],
   "source": [
    "# Method 1"
   ]
  },
  {
   "cell_type": "code",
   "execution_count": 3,
   "metadata": {},
   "outputs": [],
   "source": [
    "def generatePassKey():\n",
    "    key = Fernet.generate_key()\n",
    "    a = open(\"Passwordkey.key\",'wb')\n",
    "    a.write(key)\n",
    "    a.close()"
   ]
  },
  {
   "cell_type": "code",
   "execution_count": 4,
   "metadata": {},
   "outputs": [],
   "source": [
    "def getMyKey():\n",
    "    a = open(\"Passwordkey.key\",'rb')\n",
    "    return a.read()"
   ]
  },
  {
   "cell_type": "code",
   "execution_count": 5,
   "metadata": {},
   "outputs": [],
   "source": [
    "def getcontentfromuser():\n",
    "    return input(\"Enter the text you want to encrypt :- \")"
   ]
  },
  {
   "cell_type": "code",
   "execution_count": 6,
   "metadata": {},
   "outputs": [],
   "source": [
    "def encryptMessage(message_normal):\n",
    "    key = getMyKey()\n",
    "    k = Fernet(key)\n",
    "    encrypt_msg = k.encrypt(message_normal)\n",
    "    return encrypt_msg"
   ]
  },
  {
   "cell_type": "code",
   "execution_count": 7,
   "metadata": {},
   "outputs": [],
   "source": [
    "def decryptMessage(message_secret):\n",
    "    key = getMyKey()\n",
    "    k = Fernet(key)\n",
    "    decrypted_msg = k.decrypt(message_secret)\n",
    "    return decrypted_msg"
   ]
  },
  {
   "cell_type": "code",
   "execution_count": 8,
   "metadata": {},
   "outputs": [
    {
     "data": {
      "text/plain": [
       "b'_qFPGUf5kssQfaWCdPkxJmmeffCrhgh1dghEWyaRQ_E='"
      ]
     },
     "execution_count": 8,
     "metadata": {},
     "output_type": "execute_result"
    }
   ],
   "source": [
    "generatePassKey()\n",
    "getMyKey()"
   ]
  },
  {
   "cell_type": "code",
   "execution_count": 9,
   "metadata": {},
   "outputs": [
    {
     "name": "stdout",
     "output_type": "stream",
     "text": [
      "Enter the text you want to encrypt :- Hello ! My Contact number is : 1234567890\n"
     ]
    },
    {
     "data": {
      "text/plain": [
       "b'gAAAAABf2cnPDUojh9KuYEazuLAQoMZa3KXCOAoS7r1OHuNMcmVweUweyV5f9pb-vasAscQyNIU4866uMwV1zM0Z1IT4hHlpGnmkPMdBIRmA7E6OGcUy_6jgM2RD-78omy2m6jU5yqnQ'"
      ]
     },
     "execution_count": 9,
     "metadata": {},
     "output_type": "execute_result"
    }
   ],
   "source": [
    "code = encryptMessage(getcontentfromuser().encode())\n",
    "code"
   ]
  },
  {
   "cell_type": "code",
   "execution_count": 10,
   "metadata": {},
   "outputs": [
    {
     "data": {
      "text/plain": [
       "b'Hello ! My Contact number is : 1234567890'"
      ]
     },
     "execution_count": 10,
     "metadata": {},
     "output_type": "execute_result"
    }
   ],
   "source": [
    "decryptMessage(code)"
   ]
  },
  {
   "cell_type": "raw",
   "metadata": {},
   "source": []
  },
  {
   "cell_type": "code",
   "execution_count": 12,
   "metadata": {},
   "outputs": [],
   "source": [
    "# Method 2"
   ]
  },
  {
   "cell_type": "code",
   "execution_count": 13,
   "metadata": {},
   "outputs": [],
   "source": [
    "def generatePassKey_2():\n",
    "    key1 = Fernet.generate_key()\n",
    "    return key1"
   ]
  },
  {
   "cell_type": "code",
   "execution_count": 14,
   "metadata": {},
   "outputs": [],
   "source": [
    "def encryptMessage_2(message_normal):\n",
    "    k = Fernet(key_code)\n",
    "    encrypt_msg_2 = k.encrypt(message_normal)\n",
    "    return encrypt_msg_2"
   ]
  },
  {
   "cell_type": "code",
   "execution_count": 15,
   "metadata": {},
   "outputs": [],
   "source": [
    "def decryptMessage_2(message_secret):\n",
    "    k = Fernet(key_code)\n",
    "    decrypted_msg_2 = k.decrypt(message_secret)\n",
    "    return decrypted_msg_2"
   ]
  },
  {
   "cell_type": "code",
   "execution_count": 16,
   "metadata": {},
   "outputs": [],
   "source": [
    "key_code = generatePassKey_2()"
   ]
  },
  {
   "cell_type": "code",
   "execution_count": 17,
   "metadata": {},
   "outputs": [
    {
     "name": "stdout",
     "output_type": "stream",
     "text": [
      "Enter the text you want to encrypt :- Hello ! My ATM Pin is 1234\n"
     ]
    },
    {
     "data": {
      "text/plain": [
       "b'gAAAAABf2ctOGzukupNxuUMGYAouUuKgnM9pYZW2UnafH_G9dzIRUxfvrr9ZsYqe5ew9cjIMbtD-5HV9vF4YMQJuNqJexv0SCFouW0_ONJuV_Fxk1u08zqI='"
      ]
     },
     "execution_count": 17,
     "metadata": {},
     "output_type": "execute_result"
    }
   ],
   "source": [
    "scrt_msg = getcontentfromuser()\n",
    "s_code = encryptMessage(scrt_msg.encode())\n",
    "s_code"
   ]
  },
  {
   "cell_type": "code",
   "execution_count": 18,
   "metadata": {},
   "outputs": [
    {
     "data": {
      "text/plain": [
       "b'Hello ! My ATM Pin is 1234'"
      ]
     },
     "execution_count": 18,
     "metadata": {},
     "output_type": "execute_result"
    }
   ],
   "source": [
    "decryptMessage(s_code)"
   ]
  },
  {
   "cell_type": "raw",
   "metadata": {},
   "source": []
  }
 ],
 "metadata": {
  "kernelspec": {
   "display_name": "Python 3",
   "language": "python",
   "name": "python3"
  },
  "language_info": {
   "codemirror_mode": {
    "name": "ipython",
    "version": 3
   },
   "file_extension": ".py",
   "mimetype": "text/x-python",
   "name": "python",
   "nbconvert_exporter": "python",
   "pygments_lexer": "ipython3",
   "version": "3.8.5"
  }
 },
 "nbformat": 4,
 "nbformat_minor": 4
}
